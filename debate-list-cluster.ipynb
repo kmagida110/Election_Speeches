{
 "cells": [
  {
   "cell_type": "code",
   "execution_count": 614,
   "metadata": {
    "collapsed": true
   },
   "outputs": [],
   "source": [
    "DEBATE_URL = 'http://www.presidency.ucsb.edu/debates.php'\n",
    "Q_DENSITY_CUTOFF = .0014\n",
    "last_fetched_at = None\n",
    "import json\n",
    "import matplotlib.pyplot as plt\n",
    "import urllib.request, time, re, random, hashlib\n",
    "import bs4\n",
    "import time\n",
    "import sys\n",
    "import nltk\n",
    "import nltk.data\n",
    "from itertools import combinations\n",
    "from nltk.corpus import stopwords\n",
    "from nltk import FreqDist\n",
    "from nltk.corpus import wordnet\n",
    "from nltk import bigrams\n",
    "from sklearn.preprocessing import normalize\n",
    "from sklearn.feature_extraction.text import TfidfVectorizer\n",
    "from sklearn.cluster import KMeans\n",
    "from scipy.spatial.distance import cosine\n",
    "import pandas as pd\n",
    "import numpy as np\n",
    "from scipy.spatial import distance\n",
    "import time\n",
    "import copy\n",
    "PARTY_FILE = 'party_names.csv'\n",
    "%matplotlib inline"
   ]
  },
  {
   "cell_type": "code",
   "execution_count": 615,
   "metadata": {
    "collapsed": true
   },
   "outputs": [],
   "source": [
    "def fetch(url):\n",
    "    \"\"\"Load the url compassionately.\"\"\"\n",
    "    \n",
    "    global last_fetched_at\n",
    "    \n",
    "    url_hash = hashlib.sha1(url.encode()).hexdigest()\n",
    "    filename = 'cache/cache-file-{}'.format(url_hash)\n",
    "    try:\n",
    "        with open(filename, 'r') as f:\n",
    "            result = f.read()\n",
    "            if len(result) > 0:\n",
    "                #print(\"Retrieving from cache:\", url)\n",
    "                return result\n",
    "    except:\n",
    "        pass\n",
    "    \n",
    "    #print(\"Loading:\", url)\n",
    "    wait_interval = random.randint(3000,10000)\n",
    "    if last_fetched_at is not None:\n",
    "        now = time.time()\n",
    "        elapsed = now - last_fetched_at\n",
    "        if elapsed < wait_interval:\n",
    "            time.sleep((wait_interval - elapsed)/1000)\n",
    "        \n",
    "    user_agent = 'Mozilla/5.0 (Windows NT 6.1; Win64; x64)'\n",
    "    headers = { 'User-Agent' : user_agent }\n",
    "    req = urllib.request.Request(url, headers = headers)\n",
    "    last_fetched_at = time.time()\n",
    "    with urllib.request.urlopen(req) as response:\n",
    "        result = str(response.read())\n",
    "        with open(filename, 'w') as f:\n",
    "            f.write(result)\n",
    "    \n",
    "        return result"
   ]
  },
  {
   "cell_type": "code",
   "execution_count": 616,
   "metadata": {
    "collapsed": true
   },
   "outputs": [],
   "source": [
    "def debate_processing(soup):\n",
    "    return_list = []\n",
    "    tables = soup.find_all('table')\n",
    "    \n",
    "    for table in tables:\n",
    "        if table['width'] == '700' and table['bgcolor'] == \"#FFFFFF\":\n",
    "            actual_table = table\n",
    "    rows = actual_table.find_all('tr')\n",
    "    for row in rows:\n",
    "        cols = row.find_all('td')\n",
    "        \n",
    "        cols = [x.text.strip() for x in cols]\n",
    "        try:\n",
    "            link = row.find('a')['href']\n",
    "            cols.append(link)\n",
    "            return_list.append(cols)\n",
    "        except:\n",
    "            pass\n",
    "\n",
    "    return return_list"
   ]
  },
  {
   "cell_type": "code",
   "execution_count": 617,
   "metadata": {
    "collapsed": true
   },
   "outputs": [],
   "source": [
    "def get_words_from_speech(link):\n",
    "    result = fetch(link)\n",
    "    soup = bs4.BeautifulSoup(result,'lxml')\n",
    "    return soup"
   ]
  },
  {
   "cell_type": "code",
   "execution_count": 618,
   "metadata": {
    "collapsed": true
   },
   "outputs": [],
   "source": [
    "def get_debate_dict():\n",
    "    result = fetch(DEBATE_URL)\n",
    "    soup = bs4.BeautifulSoup(result,'lxml')\n",
    "    debate_list = debate_processing(soup)\n",
    "    debate_dict = {}\n",
    "    for debate in debate_list:\n",
    "\n",
    "        if ' ' not in debate[0]:\n",
    "            debate = debate[1:]\n",
    "        debate_id = ' '.join(debate[:2])\n",
    "        try:\n",
    "            clean_time = debate[0].replace('th,',',').replace('st,',',').replace('rd,',',').replace('nd,',',')\n",
    "            debate_datetime = time.strptime(clean_time,'%B %d, %Y')\n",
    "            \n",
    "        except:\n",
    "            debate_datetime = None\n",
    "            print(debate,'*********')\n",
    "\n",
    "        debate_dict[debate_id] = {}\n",
    "        debate_dict[debate_id]['link'] = debate[2]\n",
    "        debate_dict[debate_id]['time'] = debate_datetime \n",
    "        \n",
    "        try:\n",
    "            debate_dict[debate_id]['soup'] = get_words_from_speech(debate[2])\n",
    "        except:\n",
    "            debate_dict[debate_id]['soup'] = None\n",
    "        \n",
    "    return debate_dict"
   ]
  },
  {
   "cell_type": "code",
   "execution_count": 265,
   "metadata": {
    "collapsed": true
   },
   "outputs": [],
   "source": [
    "def find_politician_names(debate_dict):\n",
    "    for key in debate_dict.keys():\n",
    "        raw = get_soup_text(debate_dict[key])\n",
    "        raw = raw.replace(\"--\", \". \")\n",
    "        sent_detector = nltk.data.load('tokenizers/punkt/english.pickle')\n",
    "        sents = sent_detector.tokenize(raw.strip())\n",
    "\n",
    "        #find candidate names, most commonly repeated first words of sentences, not common words\n",
    "        colon_names = []\n",
    "        period_names = []\n",
    "\n",
    "        #get names from before colons\n",
    "        for sent in sents:\n",
    "            if ':' in sent:\n",
    "                sent = sent.split(':')\n",
    "                possible_name = sent[0] + \":\"\n",
    "                possible_name_no_paren = remove_paren(possible_name).strip()\n",
    "                if (len(possible_name_no_paren)<25) & (len(possible_name_no_paren)>2):\n",
    "                    colon_names.append(possible_name_no_paren)\n",
    "\n",
    "        fdist1 = FreqDist(colon_names)\n",
    "        fdist1_above_5 = [name[0] for name in fdist1.most_common(15) if name[1]>5]\n",
    "        \n",
    "        #get names before periods\n",
    "        for sent in sents:\n",
    "            if len(nltk.word_tokenize(sent))<5:\n",
    "                possible_name = sent\n",
    "                possible_name_no_paren = remove_paren(possible_name).strip()\n",
    "                if (len(possible_name_no_paren)<25) & (len(possible_name_no_paren)>2):\n",
    "                    period_names.append(possible_name_no_paren)\n",
    "                    \n",
    "        fdist2 = FreqDist(period_names)\n",
    "        fdist2_above_15 = [name[0] for name in fdist2.most_common(15) if name[1]>15]\n",
    "    \n",
    "        #add names to dict\n",
    "        colon_name_highest_freq = fdist1.most_common(1)[0][1]\n",
    "        if colon_name_highest_freq > 20 :\n",
    "            debate_dict[key]['names'] = fdist1_above_5\n",
    "        else:\n",
    "            debate_dict[key]['names'] = fdist2_above_15\n",
    "            \n",
    "    return debate_dict"
   ]
  },
  {
   "cell_type": "code",
   "execution_count": 266,
   "metadata": {
    "collapsed": true
   },
   "outputs": [],
   "source": [
    "def get_soup_text(dbt):\n",
    "    raw = dbt['soup'].get_text()\n",
    "    raw = raw.replace(\"\\\\\", \"\")\n",
    "    raw = raw.replace(\".\", \". \")\n",
    "    raw = raw.replace(\"?\", \"? \")\n",
    "    raw = raw.replace(\"!\", \"! \")\n",
    "    raw = raw.replace(\"  \", \" \")\n",
    "    raw = raw.replace(\"-\", \"- \")\n",
    "    raw = raw.replace(\"…\", \". \")\n",
    "    raw = raw.replace(\"...\", \". \")\n",
    "    return raw\n",
    "    "
   ]
  },
  {
   "cell_type": "code",
   "execution_count": 267,
   "metadata": {
    "collapsed": true
   },
   "outputs": [],
   "source": [
    "def remove_paren(name):\n",
    "    return_name = ''\n",
    "    skip1c = 0\n",
    "    skip2c = 0\n",
    "    for i in name:\n",
    "        if i == '[':\n",
    "            skip1c += 1\n",
    "        elif i == '(':\n",
    "            skip2c += 1\n",
    "        elif i == ']' and skip1c > 0:\n",
    "            skip1c -= 1\n",
    "        elif i == ')'and skip2c > 0:\n",
    "            skip2c -= 1\n",
    "        elif skip1c == 0 and skip2c == 0:\n",
    "            return_name += i\n",
    "    return return_name"
   ]
  },
  {
   "cell_type": "code",
   "execution_count": 268,
   "metadata": {
    "collapsed": true
   },
   "outputs": [],
   "source": [
    "def remove_non_politicians(cand_text_dict):\n",
    "    for year in cand_text_dict.keys():\n",
    "        for cand in cand_text_dict[year].keys():\n",
    "            cand_text_dict[year][cand]['q_density'] = 0\n",
    "            text = cand_text_dict[year][cand]['full_text']\n",
    "            num_chars = len(list(text))\n",
    "            num_q_marks = text.count('?')\n",
    "            if num_chars > 0:\n",
    "                cand_text_dict[year][cand]['q_density'] = num_q_marks/num_chars\n",
    "\n",
    "    cand_text_dict_no_mod = copy.deepcopy(cand_text_dict)\n",
    "    #remove liekly moderators\n",
    "    for year in cand_text_dict.keys():\n",
    "        for cand in cand_text_dict[year].keys():\n",
    "            if ((cand == 'MALE' and 'MALE' in cand_text_dict_no_mod[year]) or \n",
    "                (cand == 'UNKNOWN' and 'UNKNOWN' in cand_text_dict_no_mod[year]) or \n",
    "                (cand == 'WRITE' and 'WRITE' in cand_text_dict_no_mod[year])):\n",
    "                del cand_text_dict_no_mod[year][cand]\n",
    "    \n",
    "            if (cand_text_dict[year][cand]['q_density'] > Q_DENSITY_CUTOFF):\n",
    "                if (cand in cand_text_dict_no_mod[year]):\n",
    "                    del cand_text_dict_no_mod[year][cand]\n",
    "\n",
    "        \n",
    "    return cand_text_dict_no_mod"
   ]
  },
  {
   "cell_type": "code",
   "execution_count": 269,
   "metadata": {
    "collapsed": true
   },
   "outputs": [],
   "source": [
    " def clean_dirty_name_lookup(names):\n",
    "    \n",
    "    lookup_dict = {}\n",
    "    \n",
    "    for name in names:\n",
    "        clean_name = name.split()[-1].upper().replace('.','').replace(')','').replace(';','').replace(':','')\n",
    "        lookup_dict[name] = clean_name\n",
    "    \n",
    "    return lookup_dict"
   ]
  },
  {
   "cell_type": "code",
   "execution_count": 270,
   "metadata": {
    "collapsed": true
   },
   "outputs": [],
   "source": [
    "def get_election_year(year, dbt):\n",
    "    year = dbt['time'].tm_year\n",
    "    year_mod = year % 4\n",
    "    if year_mod == 0:\n",
    "        election_year = year\n",
    "    else:\n",
    "        election_year = year + (4 - year_mod)\n",
    "    return election_year"
   ]
  },
  {
   "cell_type": "code",
   "execution_count": 283,
   "metadata": {
    "collapsed": true
   },
   "outputs": [],
   "source": [
    "def clean_names(debate_dict):\n",
    "    # Add debate year\n",
    "    name_years = {}\n",
    "    for dbt in debate_dict.keys():\n",
    "        time = debate_dict[dbt]['time']\n",
    "\n",
    "        # Get election year\n",
    "        if time:\n",
    "            election_year = get_election_year(time.tm_year, debate_dict[dbt])\n",
    "        else:\n",
    "            election_year = 'dbt'\n",
    "        debate_dict[dbt]['election_year'] = election_year\n",
    "\n",
    "        # Add new set of names from debate to name_years dict\n",
    "        if election_year not in name_years:\n",
    "            name_years[election_year] = {'names':set()}\n",
    "\n",
    "        names = set(debate_dict[dbt][\"names\"])\n",
    "        name_years[election_year]['names'] = name_years[election_year]['names'].union(names)\n",
    "\n",
    "    # Reduce all names in one year to a single name\n",
    "    for year in name_years:\n",
    "        name_years[year]['lookup'] = clean_dirty_name_lookup(name_years[year]['names'])\n",
    "\n",
    "    # Add lookup dictionary to debate dictionary\n",
    "    for dbt in debate_dict.keys():\n",
    "        election_year = debate_dict[dbt]['election_year']\n",
    "        debate_dict[dbt]['lookup'] = name_years[election_year]['lookup']\n",
    "        debate_dict[dbt]['clean_names'] = debate_dict[dbt]['lookup'].values()\n",
    "    \n",
    "    return debate_dict"
   ]
  },
  {
   "cell_type": "code",
   "execution_count": 613,
   "metadata": {
    "collapsed": false
   },
   "outputs": [],
   "source": [
    "def attribute_text(debate_dict):\n",
    "    #make year/candidate dictionary for text\n",
    "    cand_text_dict = {}\n",
    "    for dbt in debate_dict.keys():\n",
    "        year = debate_dict[dbt]['election_year']\n",
    "        cand_text_dict[year] = {}\n",
    "        for cand in debate_dict[dbt][\"clean_names\"]:\n",
    "            cand_text_dict[year][cand] = {}\n",
    "            cand_text_dict[year][cand]['full_text'] = \"\"\n",
    "    \n",
    "    #fill year/candidate dictionary\n",
    "    for dbt in debate_dict.keys():\n",
    "        #set variables\n",
    "        year = debate_dict[dbt][\"election_year\"]\n",
    "        names = debate_dict[dbt][\"names\"]\n",
    "        if \"write\" in names:\n",
    "            names.remove('write')\n",
    "        \n",
    "        #get debate soup\n",
    "        raw = get_soup_text(debate_dict[dbt])\n",
    "        \n",
    "        #tokenize sents\n",
    "        for name in names:\n",
    "            raw = raw.replace(name, \". \" + name)\n",
    "        sent_detector = nltk.data.load('tokenizers/punkt/english.pickle')\n",
    "        sents = sent_detector.tokenize(raw.strip())\n",
    "        \n",
    "        #loop through sents\n",
    "        current_speaker = \"\"\n",
    "        got_first_speaker = False\n",
    "        for sent in sents:\n",
    "            new_speaker = (len([name for name in names if name in sent])>0)\n",
    "            if(new_speaker):\n",
    "                got_first_speaker = True\n",
    "                current_speaker_dirty = [name for name in names if name in sent][0]\n",
    "                current_speaker = debate_dict[dbt][\"lookup\"][current_speaker_dirty]\n",
    "            \n",
    "            if(got_first_speaker):\n",
    "                sent_no_name = sent.replace(current_speaker_dirty, \"\")\n",
    "                cand_text_dict[year][current_speaker]['full_text'] = (cand_text_dict[year][current_speaker]['full_text'] + \" \" + sent_no_name)\n",
    "    \n",
    "    #fix \"president\" as candidate name\n",
    "    for year in cand_text_dict.keys():\n",
    "        #loop through candidates\n",
    "        if year == 2012:\n",
    "            cand_text_dict[year]['OBAMA'] = cand_text_dict[year].pop('PRESIDENT')\n",
    "        if year == 1996:\n",
    "            cand_text_dict[year]['CLINTON'] = cand_text_dict[year].pop('PRESIDENT')\n",
    "        if year == 1984:\n",
    "            cand_text_dict[year]['REAGAN'] = cand_text_dict[year].pop('PRESIDENT')\n",
    "        if year == 1980:\n",
    "            cand_text_dict[year]['CARTER'] = cand_text_dict[year].pop('PRESIDENT')\n",
    "        if year == 1976:\n",
    "            cand_text_dict[year]['FORD'] = cand_text_dict[year].pop('PRESIDENT')\n",
    "    return cand_text_dict"
   ]
  },
  {
   "cell_type": "code",
   "execution_count": 583,
   "metadata": {
    "collapsed": false
   },
   "outputs": [],
   "source": [
    "def similarity_model(cand_text_dict):\n",
    "    dumbWords = stopwords.words('english')\n",
    "    political_positions = ['Governor', 'Senator', 'President']\n",
    "    \n",
    "    \n",
    "    #loop through election years\n",
    "    for year in cand_text_dict.keys():\n",
    "        #loop through candidates\n",
    "        for cand in cand_text_dict[year].keys():\n",
    "            #print(year, cand)\n",
    "        \n",
    "            tokens = nltk.word_tokenize(cand_text_dict[year][cand]['full_text'])\n",
    "            text = nltk.Text(tokens)\n",
    "            fdist_tokens = FreqDist(tokens)\n",
    "            \n",
    "            special_words = [word for word in tokens if len(word)>4 and fdist_tokens[word]>=5 \n",
    "                             and wordnet.synsets(word) and word not in political_positions]\n",
    "            cand_text_dict[year][cand][\"special_words\"] = special_words\n",
    "            \n",
    "            special_words_no_caps = [word for word in tokens if len(word)>4 and fdist_tokens[word]>=5 \n",
    "                             and wordnet.synsets(word) and word[0].islower()]\n",
    "            cand_text_dict[year][cand][\"special_words_no_caps\"] = special_words_no_caps\n",
    "            \n",
    "            if len(text)>0:\n",
    "                #avg word len\n",
    "                sum_len = sum([len(word) for word in text])\n",
    "                cand_text_dict[year][cand][\"avg_word_len\"] = sum_len/len(text)\n",
    "                \n",
    "                #avg word len, no stopwords\n",
    "                text_no_dumbWords = [word for word in text if word not in dumbWords]\n",
    "                sum_len = sum([len(word) for word in text_no_dumbWords])\n",
    "                cand_text_dict[year][cand][\"avg_word_len_no_stopword\"] = sum_len/len(text_no_dumbWords)\n",
    "                \n",
    "                #lex diversity                \n",
    "                cand_text_dict[year][cand][\"lex_diversity\"] = (len(set(text)) / len(text))\n",
    "\n",
    "                \n",
    "                #lex diversity  no stopwords              \n",
    "                cand_text_dict[year][cand][\"lex_diversity_no_stopword\"] = (len(set(text_no_dumbWords)) / len(text_no_dumbWords))\n",
    "            \n",
    " \n",
    "            bgrms = list(bigrams(text))\n",
    "            cand_text_dict[year][cand][\"bgrms\"] = bgrms\n",
    "            \n",
    "            fdist_bgrms = FreqDist(bgrms)\n",
    "            special_bgrms = [bgm for bgm in bgrms if fdist_bgrms[bgm]>2 \n",
    "                             and wordnet.synsets(bgm[0]) and wordnet.synsets(bgm[1])]\n",
    "            cand_text_dict[year][cand][\"special_bgrms\"] = special_bgrms\n",
    "            \n",
    "            special_bgrms_no_caps = [bgm for bgm in bgrms if fdist_bgrms[bgm]>2 \n",
    "                             and wordnet.synsets(bgm[0]) and wordnet.synsets(bgm[1]) \n",
    "                                     and bgm[0][0].islower() and bgm[1][0].islower()]\n",
    "            cand_text_dict[year][cand][\"special_bgrms_no_caps\"] = special_bgrms_no_caps\n",
    "            \n",
    "            special_bgrms_no_caps_stopwords = [bgm for bgm in bgrms if fdist_bgrms[bgm]>2 \n",
    "                             and wordnet.synsets(bgm[0]) and wordnet.synsets(bgm[1]) \n",
    "                                     and bgm[0][0].islower() and bgm[1][0].islower()\n",
    "                                              and bgm[0] not in dumbWords and bgm[1] not in dumbWords]\n",
    "            cand_text_dict[year][cand][\"special_bgrms_no_caps_stopwords\"] = special_bgrms_no_caps_stopwords\n",
    "            \n",
    "\n",
    "            cand_text_dict[year][cand][\"compound_bgms\"] = ''\n",
    "            for bgm in cand_text_dict[year][cand][\"bgrms\"]:\n",
    "                compound_bgm = bgm[0] + '_' + bgm[1]\n",
    "                cand_text_dict[year][cand][\"compound_bgms\"] += (compound_bgm + ' ')\n",
    "\n",
    "                    \n",
    "            \n",
    "    return cand_text_dict\n",
    "        "
   ]
  },
  {
   "cell_type": "code",
   "execution_count": 582,
   "metadata": {
    "collapsed": false
   },
   "outputs": [],
   "source": [
    "def build_text_dict():\n",
    "    debate_dict = get_debate_dict()\n",
    "\n",
    "    #find the names of the participants\n",
    "    debate_dict = find_politician_names(debate_dict)\n",
    "    \n",
    "    #clean names and years for comparison within electoral years\n",
    "    debate_dict = clean_names(debate_dict)\n",
    "\n",
    "    #compile all text by candidate-year\n",
    "    cand_text_dict = attribute_text(debate_dict)\n",
    "\n",
    "    #create a model of text similarity\n",
    "    cand_text_dict = similarity_model(cand_text_dict)\n",
    "    \n",
    "    cand_text_dict = remove_non_politicians(cand_text_dict)\n",
    "\n",
    "    return cand_text_dict\n",
    "\n",
    "\n",
    "\n"
   ]
  },
  {
   "cell_type": "code",
   "execution_count": 508,
   "metadata": {
    "collapsed": false
   },
   "outputs": [],
   "source": [
    "def build_score_and_data_matrix(debate_dict,var_list,distance_method,weights=None):\n",
    "    \n",
    "    # locations of id and text in score dataframe\n",
    "    cand_scores = []\n",
    "    for year in debate_dict:\n",
    "        # Build each row of dataframe\n",
    "        for candidate in debate_dict[year]:\n",
    "            cand_year_dict = debate_dict[year][candidate]\n",
    "            cand_id = candidate + '_' + str(year)\n",
    "            var_score_list = [cand_year_dict[x] for x in cand_year_dict if x in var_list]\n",
    "            cand_scores.append([cand_id,cand_year_dict['full_text']] + var_score_list)\n",
    "            \n",
    "    # build normalized dataframe with name and text as first columns, var_list as col keys\n",
    "    cand_df = normalize_scores(cand_scores,var_list)   \n",
    "\n",
    "    # build tfidf Matrix and add to original matrix\n",
    "    tfidf_freq = get_tfidf_vectors(cand_df['full_text'])\n",
    "    tf_cols = list(tfidf_freq.columns)\n",
    "    df = pd.concat([cand_df,tfidf_freq],axis=1)\n",
    "\n",
    "    \n",
    "    num_rows = len(df)\n",
    "    dist_dict = {}\n",
    "    # Loop over all combinations and calculate distances\n",
    "    for i in range(num_rows-1):\n",
    "        if i % 10 == 0:\n",
    "            print(i)\n",
    "        for j in range(i+1,num_rows):\n",
    "            \n",
    "            # default to equal weights\n",
    "            if weights == None:\n",
    "                weights = [1]*(len(var_list) + 1)\n",
    "            \n",
    "            name1 = df.ix[i]['cand_name']\n",
    "            name2 = df.ix[j]['cand_name']\n",
    "            score = calculate_score(df.ix[i],df.ix[j],weights,var_list,tf_cols,distance_method)\n",
    "            \n",
    "\n",
    "            # fill both sides of dictionary with relative distances\n",
    "\n",
    "            if name1 not in dist_dict:\n",
    "                dist_dict[name1] = {}\n",
    "            if name2 not in dist_dict:\n",
    "                dist_dict[name2] = {}\n",
    "            dist_dict[name1][name2] = score\n",
    "            dist_dict[name2][name1] = score\n",
    "\n",
    "\n",
    "    return df,dist_dict        \n",
    "\n",
    "def calculate_score(row1,row2,weights,var_list,tfidf_cols,distance_method):\n",
    "\n",
    "    # calculate weighted rows and find distance between with given method\n",
    "    tfidf_weight = weights['tfidf']\n",
    "    var_weights = weights['var']\n",
    "    \n",
    "    \n",
    "    # equal weight to all tfidf features\n",
    "    tfidf_score = distance_method(row1[tfidf_cols],row2[tfidf_cols])\n",
    "    tfidf_weighted = tfidf_score * tfidf_weight\n",
    "    \n",
    "    var_scores = []\n",
    "    for i, var in enumerate(var_list):\n",
    "        d = (row1[var] - row2[var])**2 # Take square of difference as distance\n",
    "        var_scores.append(d * var_weights[i])\n",
    "\n",
    "    return tfidf_weighted + sum(var_scores) # return sum of weighted scores\n",
    "\n",
    "def weight_rows(row,col_list,weight_list):\n",
    "    rv = np.array(row[col_list[0]]) * weight_list[0]\n",
    "    for i in range(1,len(col_list)):\n",
    "        rv = np.hstack([rv,np.array(row[col_list[i]]*weight_list[i])])\n",
    "    \n",
    "    return rv\n",
    "\n",
    "def normalize_scores(list_of_scores,var_list):\n",
    "    \n",
    "    df = pd.DataFrame(list_of_scores)\n",
    "    \n",
    "    # Rename columns\n",
    "    col_dict = {0:'cand_name',1:'full_text'}\n",
    "    for i, var in enumerate(var_list):\n",
    "        col_dict[i+2] = var\n",
    "    df = df.rename(columns=col_dict)\n",
    "    df.fillna(0,inplace=True) # non-existent should be 0\n",
    "    \n",
    "    \n",
    "    df[var_list] = normalize(df[var_list],'l1',axis=0)\n",
    "    return df\n",
    "\n",
    "def get_tfidf_vectors(list_of_texts):\n",
    "    # Used basis of code from hw 1\n",
    "    vectorizer = TfidfVectorizer(analyzer = \"word\",\n",
    "                                 tokenizer = None,\n",
    "                                 preprocessor = None,\n",
    "                                 stop_words = stopwords.words('english'),\n",
    "                                 lowercase= True,\n",
    "                                 max_features = 1000,\n",
    "                                 smooth_idf = True) # Enable smoothing\n",
    "    compressed_vectors = vectorizer.fit_transform(list_of_texts)\n",
    "    df = pd.DataFrame(compressed_vectors.toarray())\n",
    "    df.columns = vectorizer.get_feature_names()\n",
    "    return df "
   ]
  },
  {
   "cell_type": "code",
   "execution_count": 600,
   "metadata": {
    "collapsed": false
   },
   "outputs": [],
   "source": [
    "def build_distance_matrix(raw_scores,dist_dict):\n",
    "    names = list(raw_scores['cand_name'])\n",
    "    score_compare = pd.DataFrame(index=names,columns=names)\n",
    "    \n",
    "    # fill rows with mutuals scores for each candidate\n",
    "    for name in names:\n",
    "        new_col = []\n",
    "        for compare_name in names:\n",
    "            try:\n",
    "                new_col.append(dist_dict[name][compare_name])\n",
    "            except:\n",
    "                new_col.append(np.nan)\n",
    "        score_compare[name] = new_col\n",
    "    score_compare.fillna(np.nan,inplace=True)\n",
    "    \n",
    "    rv = score_compare.merge(raw_scores,left_index=True,right_on='cand_name')\n",
    "    rv['year_num'] = rv['cand_name'].apply(lambda x: x.split('_')[1])\n",
    "    \n",
    "    return rv.set_index('cand_name')\n",
    "\n",
    "def add_clusters(df,added_fields,num_clusters):\n",
    "    # cluster only on data on speeches\n",
    "    kmeans = KMeans(n_clusters=num_clusters)    \n",
    "    kmeans.fit_predict(df.drop(added_fields,axis=1))\n",
    "    df['clusters'] = kmeans.labels_\n",
    "    return df\n",
    "    \n",
    "    "
   ]
  },
  {
   "cell_type": "code",
   "execution_count": 601,
   "metadata": {
    "collapsed": true
   },
   "outputs": [],
   "source": [
    "def join_parties(df):\n",
    "    parties = pd.read_csv(PARTY_FILE,index_col='id')\n",
    "    joined_df = df.join(parties)\n",
    "    joined_df = joined_df[joined_df['party_name'] != 0]\n",
    "    return joined_df\n",
    "    "
   ]
  },
  {
   "cell_type": "code",
   "execution_count": 599,
   "metadata": {
    "collapsed": false,
    "scrolled": true
   },
   "outputs": [],
   "source": [
    "def build_plots(raw_scores,name,dist_dict):\n",
    "    for num_clusters in range(2,8):\n",
    "        #clusters need to be built on raw data\n",
    "        cluster_df = add_clusters(raw_scores,added_fields,num_clusters)\n",
    "        # Calculate and add scores\n",
    "        score_df = build_distance_matrix(cluster_df,dist_dict)\n",
    "        joined_df = join_parties(score_df)       \n",
    "        year = [float(x) + np.random.random()*2 for x in joined_df['year_num']]\n",
    "        party = [float(x) + np.random.random()*.2 for x in joined_df['party_name']]\n",
    "        joined_df.drop('full_text',axis=1,inplace=True)\n",
    "        joined_df.to_csv('clusters/' + name + '_' + 'clusters_' + str(num_clusters)+ '.csv')\n",
    "        plt.scatter(year,party,c=joined_df['clusters'],cmap='Spectral')\n",
    "        plt.title(str(num_clusters) + ' Clusters')\n",
    "        plt.xlabel('Year')\n",
    "        plt.ylabel('Party: 1=Dem, 2=Rep, 3=Other')\n",
    "        plt.savefig('clusters/' + name + '_' + str(num_clusters) + '_Clusters.png')\n",
    "        plt.show()\n",
    "        "
   ]
  },
  {
   "cell_type": "code",
   "execution_count": 541,
   "metadata": {
    "collapsed": false
   },
   "outputs": [],
   "source": [
    "cand_text_dict = build_text_dict()\n",
    "raw_scores,dist_dict = build_score_and_data_matrix(cand_text_dict,var_names,cosine,weights)"
   ]
  },
  {
   "cell_type": "code",
   "execution_count": 578,
   "metadata": {
    "collapsed": false
   },
   "outputs": [
    {
     "data": {
      "text/plain": [
       "dict_keys(['special_bgrms_no_caps', 'special_words', 'bgrms', 'lex_diversity_no_stopword', 'avg_word_len_no_stopword', 'full_text', 'avg_word_len', 'compound_bgms', 'special_bgrms_no_caps_stopwords', 'lex_diversity', 'q_density', 'special_words_no_caps', 'special_bgrms'])"
      ]
     },
     "execution_count": 578,
     "metadata": {},
     "output_type": "execute_result"
    }
   ],
   "source": [
    "cand_text_dict[1984]['BUSH'].keys()"
   ]
  },
  {
   "cell_type": "code",
   "execution_count": 584,
   "metadata": {
    "collapsed": false
   },
   "outputs": [],
   "source": [
    "cand_text_dict = build_text_dict()"
   ]
  },
  {
   "cell_type": "code",
   "execution_count": 592,
   "metadata": {
    "collapsed": true
   },
   "outputs": [
    {
     "name": "stdout",
     "output_type": "stream",
     "text": [
      "0\n",
      "10\n",
      "20\n",
      "30\n",
      "40\n",
      "50\n",
      "60\n",
      "70\n",
      "80\n",
      "90\n",
      "100\n"
     ]
    }
   ],
   "source": [
    "added_fields = ['cand_name','full_text'] #fields added in building matrix\n",
    "var_names = ['avg_word_len','avg_word_len_no_stopword', 'lex_diversity_no_stopword']\n",
    "weights = {'var':[1,1,1],'tfidf':4,'tfidf_bigrams':4}\n",
    "num_clusters = 8\n",
    "raw_scores,dist_dict = build_score_and_data_matrix(cand_text_dict,var_names,cosine,weights)\n",
    "distance_matrix = build_distance_matrix(cluster_df,dist_dict)\n",
    "\n"
   ]
  },
  {
   "cell_type": "code",
   "execution_count": 586,
   "metadata": {
    "collapsed": true
   },
   "outputs": [
    {
     "data": {
      "image/png": "[encoded data removed]",
      "text/plain": [
       "<matplotlib.figure.Figure at 0x196412080>"
      ]
     },
     "metadata": {},
     "output_type": "display_data"
    },
    {
     "data": {
      "image/png": "[encoded data removed]",
      "text/plain": [
       "<matplotlib.figure.Figure at 0x18b13ccf8>"
      ]
     },
     "metadata": {},
     "output_type": "display_data"
    },
    {
     "data": {
      "image/png": "[encoded data removed]",
      "text/plain": [
       "<matplotlib.figure.Figure at 0x1995f6cf8>"
      ]
     },
     "metadata": {},
     "output_type": "display_data"
    },
    {
     "data": {
      "image/png": "[encoded data removed]",
      "text/plain": [
       "<matplotlib.figure.Figure at 0x18b13ccf8>"
      ]
     },
     "metadata": {},
     "output_type": "display_data"
    },
    {
     "data": {
      "image/png": "[encoded data removed]",
      "text/plain": [
       "<matplotlib.figure.Figure at 0x199404c88>"
      ]
     },
     "metadata": {},
     "output_type": "display_data"
    },
    {
     "data": {
      "image/png": "[encoded data removed]",
      "text/plain": [
       "<matplotlib.figure.Figure at 0x1993ffac8>"
      ]
     },
     "metadata": {},
     "output_type": "display_data"
    }
   ],
   "source": [
    "build_plots(raw_scores,'even',dist_dict)"
   ]
  },
  {
   "cell_type": "code",
   "execution_count": 589,
   "metadata": {
    "collapsed": true
   },
   "outputs": [],
   "source": [
    "def output_pairs(name,year):\n",
    "    name_id = name.upper() + '_' + str(year)\n",
    "    score_df = build_distance_matrix(raw_scores,dist_dict)\n",
    "    score_df = join_parties(score_df)\n",
    "    print(\"Top 10 Pairs\")\n",
    "    print(score_df[name_id].sort_values()[:10])\n",
    "    print()\n",
    "    print(\"Lowest 10 Pairs\")\n",
    "    print(score_df[name_id].sort_values()[-11:])\n",
    "    print()"
   ]
  },
  {
   "cell_type": "code",
   "execution_count": 585,
   "metadata": {
    "collapsed": true
   },
   "outputs": [],
   "source": [
    "def cand_info(name,year):\n",
    "    cand_dict = cand_text_dict[year][name]\n",
    "    print(\"Average Word Length\",cand_dict['avg_word_len'])\n",
    "    print(\"w/o stopwords\",cand_dict['avg_word_len_no_stopword'])\n",
    "    print()\n",
    "    print(\"Lexical Diversity\")\n",
    "    print(cand_dict['lex_diversity_no_stopword'])\n",
    "    print(\"Top 10 bigrams\")\n",
    "    top_10 = FreqDist(cand_dict['special_bgrms_no_caps_stopwords']).most_common(10)\n",
    "    for item in top_10:\n",
    "        print(item[0][0] + ' ' + item[0][1] + ': ', str(item[1]))\n"
   ]
  },
  {
   "cell_type": "code",
   "execution_count": 612,
   "metadata": {
    "collapsed": true
   },
   "outputs": [
    {
     "name": "stdout",
     "output_type": "stream",
     "text": [
      "Candidate Name 1clinton\n",
      "Candidate Year 11992\n",
      "Candidate Name 2clinton\n",
      "Candidate Year 22016\n",
      "\n",
      "Distance:  1.17224238463 \n",
      "\n",
      "CLINTON_1992 \n",
      "\n",
      "Average Word Length 3.8773194723898947\n",
      "w/o stopwords 4.482949392345366\n",
      "\n",
      "Lexical Diversity\n",
      "0.20886994376927262\n",
      "Top 10 bigrams\n",
      "health care:  37\n",
      "middle class:  20\n",
      "care costs:  16\n",
      "private sector:  9\n",
      "family values:  8\n",
      "control health:  8\n",
      "even though:  7\n",
      "class tax:  7\n",
      "job growth:  7\n",
      "years ago:  7\n",
      "None\n",
      "\n",
      " CLINTON_2016 \n",
      "\n",
      "Average Word Length 3.8344431356522994\n",
      "w/o stopwords 4.432336584186347\n",
      "\n",
      "Lexical Diversity\n",
      "0.14064640928508101\n",
      "Top 10 bigrams\n",
      "health care:  34\n",
      "make sure:  24\n",
      "young people:  17\n",
      "middle class:  14\n",
      "law enforcement:  11\n",
      "health insurance:  10\n",
      "criminal justice:  10\n",
      "put together:  10\n",
      "immigration reform:  9\n",
      "insurance companies:  9\n",
      "None\n"
     ]
    }
   ],
   "source": [
    "name1 = input('Candidate Name 1').upper()\n",
    "year1 = int(input('Candidate Year 1'))\n",
    "\n",
    "name2 = input('Candidate Name 2').upper()\n",
    "year2 = int(input('Candidate Year 2'))\n",
    "\n",
    "id_1 = name1 + '_' + str(year1)\n",
    "id_2 = name2 + '_' + str(year2)\n",
    "\n",
    "print()\n",
    "print(\"Distance: \",distance_matrix[id_1][id_2],'\\n')\n",
    "print(id_1, '\\n')\n",
    "print(cand_info(name1,year1))\n",
    "print('\\n',id_2,'\\n')\n",
    "print(cand_info(name2,year2))"
   ]
  },
  {
   "cell_type": "code",
   "execution_count": 590,
   "metadata": {
    "collapsed": true
   },
   "outputs": [
    {
     "name": "stdout",
     "output_type": "stream",
     "text": [
      "Top 10 Pairs\n",
      "cand_name\n",
      "HUCKABEE_2016    0.731384\n",
      "KASICH_2016      0.755631\n",
      "ROMNEY_2008      0.797856\n",
      "HUCKABEE_2008    0.814019\n",
      "CARSON_2016      0.850854\n",
      "ROMNEY_2012      0.876523\n",
      "SANTORUM_2016    0.877469\n",
      "THOMPSON_2008    0.916868\n",
      "PAUL_2012        0.943555\n",
      "CLINTON_2016     0.985459\n",
      "Name: TRUMP_2016, dtype: float64\n",
      "\n",
      "Lowest 10 Pairs\n",
      "cand_name\n",
      "CHAFEE_2016       2.175036\n",
      "PRESIDENT_1976    2.219815\n",
      "MONDALE_1976      2.224566\n",
      "NIXON_1960        2.228441\n",
      "GORE_1996         2.384607\n",
      "DOLE_1976         2.400952\n",
      "KENNEDY_1960      2.452790\n",
      "KEMP_1996         2.461560\n",
      "PRESIDENT_1980    2.523677\n",
      "GOV_2012          3.947944\n",
      "TRUMP_2016             NaN\n",
      "Name: TRUMP_2016, dtype: float64\n",
      "\n",
      "Average Word Length 3.4043715846994536\n",
      "w/o stopwords 3.6621227390866173\n",
      "\n",
      "Lexical Diversity\n",
      "0.11488887710178751\n",
      "Top 10 bigrams\n",
      "eminent domain:  18\n",
      "get along:  15\n",
      "take care:  15\n",
      "many people:  14\n",
      "come back:  12\n",
      "jobs back:  11\n",
      "years ago:  11\n",
      "win anymore:  10\n",
      "bring jobs:  10\n",
      "one thing:  8\n"
     ]
    }
   ],
   "source": [
    "name = 'TRUMP'#input('Candidate Name').upper()\n",
    "year = 2016#int(input('Candidate Year'))\n",
    "output_pairs(name,year)\n",
    "cand_info(name,year)\n",
    "\n"
   ]
  }
 ],
 "metadata": {
  "kernelspec": {
   "display_name": "Python 3",
   "language": "python",
   "name": "python3"
  },
  "language_info": {
   "codemirror_mode": {
    "name": "ipython",
    "version": 3
   },
   "file_extension": ".py",
   "mimetype": "text/x-python",
   "name": "python",
   "nbconvert_exporter": "python",
   "pygments_lexer": "ipython3",
   "version": "3.5.1"
  }
 },
 "nbformat": 4,
 "nbformat_minor": 0
}
