{
 "cells": [
  {
   "cell_type": "code",
   "execution_count": 52,
   "metadata": {
    "collapsed": true
   },
   "outputs": [],
   "source": [
    "DEBATE_URL = 'http://www.presidency.ucsb.edu/debates.php'\n",
    "Q_DENSITY_CUTOFF = .0014\n",
    "last_fetched_at = None\n",
    "import json\n",
    "import matplotlib.pyplot as plt\n",
    "import urllib.request, time, re, random, hashlib\n",
    "import bs4\n",
    "import time\n",
    "import sys\n",
    "import nltk\n",
    "import nltk.data\n",
    "from itertools import combinations\n",
    "from nltk.corpus import stopwords\n",
    "from nltk import FreqDist\n",
    "from nltk.corpus import wordnet\n",
    "from nltk import bigrams\n",
    "from sklearn.preprocessing import normalize\n",
    "from sklearn.feature_extraction.text import TfidfVectorizer\n",
    "from sklearn.cluster import KMeans\n",
    "from scipy.spatial.distance import cosine\n",
    "import pandas as pd\n",
    "import numpy as np\n",
    "from scipy.spatial import distance\n",
    "import time\n",
    "import copy\n",
    "import math\n",
    "PARTY_FILE = 'party_names.csv'\n",
    "ADDED_FIELDS = ['cand_name','full_text','compound_bgms'] # fields in final matrix that are manually added\n",
    "%matplotlib inline"
   ]
  },
  {
   "cell_type": "code",
   "execution_count": 2,
   "metadata": {
    "collapsed": true
   },
   "outputs": [],
   "source": [
    "def fetch(url):\n",
    "    \"\"\"Load the url compassionately.\"\"\"\n",
    "    \n",
    "    global last_fetched_at\n",
    "    \n",
    "    url_hash = hashlib.sha1(url.encode()).hexdigest()\n",
    "    filename = 'cache/cache-file-{}'.format(url_hash)\n",
    "    try:\n",
    "        with open(filename, 'r') as f:\n",
    "            result = f.read()\n",
    "            if len(result) > 0:\n",
    "                #print(\"Retrieving from cache:\", url)\n",
    "                return result\n",
    "    except:\n",
    "        pass\n",
    "    \n",
    "    #print(\"Loading:\", url)\n",
    "    wait_interval = random.randint(3000,10000)\n",
    "    if last_fetched_at is not None:\n",
    "        now = time.time()\n",
    "        elapsed = now - last_fetched_at\n",
    "        if elapsed < wait_interval:\n",
    "            time.sleep((wait_interval - elapsed)/1000)\n",
    "        \n",
    "    user_agent = 'Mozilla/5.0 (Windows NT 6.1; Win64; x64)'\n",
    "    headers = { 'User-Agent' : user_agent }\n",
    "    req = urllib.request.Request(url, headers = headers)\n",
    "    last_fetched_at = time.time()\n",
    "    with urllib.request.urlopen(req) as response:\n",
    "        result = str(response.read())\n",
    "        with open(filename, 'w') as f:\n",
    "            f.write(result)\n",
    "    \n",
    "        return result"
   ]
  },
  {
   "cell_type": "code",
   "execution_count": 3,
   "metadata": {
    "collapsed": true
   },
   "outputs": [],
   "source": [
    "def debate_processing(soup):\n",
    "    return_list = []\n",
    "    tables = soup.find_all('table')\n",
    "    \n",
    "    for table in tables:\n",
    "        if table['width'] == '700' and table['bgcolor'] == \"#FFFFFF\":\n",
    "            actual_table = table\n",
    "    rows = actual_table.find_all('tr')\n",
    "    for row in rows:\n",
    "        cols = row.find_all('td')\n",
    "        \n",
    "        cols = [x.text.strip() for x in cols]\n",
    "        try:\n",
    "            link = row.find('a')['href']\n",
    "            cols.append(link)\n",
    "            return_list.append(cols)\n",
    "        except:\n",
    "            pass\n",
    "\n",
    "    return return_list"
   ]
  },
  {
   "cell_type": "code",
   "execution_count": 4,
   "metadata": {
    "collapsed": true
   },
   "outputs": [],
   "source": [
    "def get_words_from_speech(link):\n",
    "    result = fetch(link)\n",
    "    soup = bs4.BeautifulSoup(result,'lxml')\n",
    "    return soup"
   ]
  },
  {
   "cell_type": "code",
   "execution_count": 5,
   "metadata": {
    "collapsed": true
   },
   "outputs": [],
   "source": [
    "def get_debate_dict():\n",
    "    result = fetch(DEBATE_URL)\n",
    "    soup = bs4.BeautifulSoup(result,'lxml')\n",
    "    debate_list = debate_processing(soup)\n",
    "    debate_dict = {}\n",
    "    for debate in debate_list:\n",
    "\n",
    "        if ' ' not in debate[0]:\n",
    "            debate = debate[1:]\n",
    "        debate_id = ' '.join(debate[:2])\n",
    "        try:\n",
    "            clean_time = debate[0].replace('th,',',').replace('st,',',').replace('rd,',',').replace('nd,',',')\n",
    "            debate_datetime = time.strptime(clean_time,'%B %d, %Y')\n",
    "            \n",
    "        except:\n",
    "            debate_datetime = None\n",
    "            print(debate,'*********')\n",
    "\n",
    "        debate_dict[debate_id] = {}\n",
    "        debate_dict[debate_id]['link'] = debate[2]\n",
    "        debate_dict[debate_id]['time'] = debate_datetime \n",
    "        \n",
    "        try:\n",
    "            debate_dict[debate_id]['soup'] = get_words_from_speech(debate[2])\n",
    "        except:\n",
    "            debate_dict[debate_id]['soup'] = None\n",
    "        \n",
    "    return debate_dict"
   ]
  },
  {
   "cell_type": "code",
   "execution_count": 6,
   "metadata": {
    "collapsed": true
   },
   "outputs": [],
   "source": [
    "def find_politician_names(debate_dict):\n",
    "    for key in debate_dict.keys():\n",
    "        raw = get_soup_text(debate_dict[key])\n",
    "        raw = raw.replace(\"--\", \". \")\n",
    "        sent_detector = nltk.data.load('tokenizers/punkt/english.pickle')\n",
    "        sents = sent_detector.tokenize(raw.strip())\n",
    "\n",
    "        #find candidate names, most commonly repeated first words of sentences, not common words\n",
    "        colon_names = []\n",
    "        period_names = []\n",
    "\n",
    "        #get names from before colons\n",
    "        for sent in sents:\n",
    "            if ':' in sent:\n",
    "                sent = sent.split(':')\n",
    "                possible_name = sent[0] + \":\"\n",
    "                possible_name_no_paren = remove_paren(possible_name).strip()\n",
    "                if (len(possible_name_no_paren)<25) & (len(possible_name_no_paren)>2):\n",
    "                    colon_names.append(possible_name_no_paren)\n",
    "\n",
    "        fdist1 = FreqDist(colon_names)\n",
    "        fdist1_above_5 = [name[0] for name in fdist1.most_common(15) if name[1]>5]\n",
    "\n",
    "        #get names before periods\n",
    "        for sent in sents:\n",
    "            if len(nltk.word_tokenize(sent))<5:\n",
    "                possible_name = sent\n",
    "                possible_name_no_paren = remove_paren(possible_name).strip()\n",
    "                if (len(possible_name_no_paren)<25) & (len(possible_name_no_paren)>2):\n",
    "                    period_names.append(possible_name_no_paren)\n",
    "\n",
    "        fdist2 = FreqDist(period_names)\n",
    "        fdist2_above_15 = [name[0] for name in fdist2.most_common(15) if name[1]>15 and \"YES\" not in name[0].upper() and \"WRITE\" not in name[0].upper()]\n",
    "\n",
    "        #add names to dict\n",
    "        colon_name_highest_freq = fdist1.most_common(1)[0][1]\n",
    "        if colon_name_highest_freq > 20 :\n",
    "            debate_dict[key]['names'] = fdist1_above_5\n",
    "        else:\n",
    "            debate_dict[key]['names'] = fdist2_above_15\n",
    "\n",
    "    return debate_dict"
   ]
  },
  {
   "cell_type": "code",
   "execution_count": 7,
   "metadata": {
    "collapsed": true
   },
   "outputs": [],
   "source": [
    "def get_soup_text(dbt):\n",
    "    raw = dbt['soup'].get_text()\n",
    "    raw = raw.replace(\"\\\\\", \"\")\n",
    "    raw = raw.replace(\".\", \". \")\n",
    "    raw = raw.replace(\"?\", \"? \")\n",
    "    raw = raw.replace(\"!\", \"! \")\n",
    "    raw = raw.replace(\"  \", \" \")\n",
    "    raw = raw.replace(\"-\", \"- \")\n",
    "    raw = raw.replace(\"…\", \". \")\n",
    "    raw = raw.replace(\"...\", \". \")\n",
    "    return raw\n",
    "    "
   ]
  },
  {
   "cell_type": "code",
   "execution_count": 8,
   "metadata": {
    "collapsed": true
   },
   "outputs": [],
   "source": [
    "def remove_paren(name):\n",
    "    return_name = ''\n",
    "    skip1c = 0\n",
    "    skip2c = 0\n",
    "    for i in name:\n",
    "        if i == '[':\n",
    "            skip1c += 1\n",
    "        elif i == '(':\n",
    "            skip2c += 1\n",
    "        elif i == ']' and skip1c > 0:\n",
    "            skip1c -= 1\n",
    "        elif i == ')'and skip2c > 0:\n",
    "            skip2c -= 1\n",
    "        elif skip1c == 0 and skip2c == 0:\n",
    "            return_name += i\n",
    "    return return_name"
   ]
  },
  {
   "cell_type": "code",
   "execution_count": 9,
   "metadata": {
    "collapsed": true
   },
   "outputs": [],
   "source": [
    "def remove_non_politicians(cand_text_dict):\n",
    "    for year in cand_text_dict.keys():\n",
    "        for cand in cand_text_dict[year].keys():\n",
    "            cand_text_dict[year][cand]['q_density'] = 0\n",
    "            text = cand_text_dict[year][cand]['full_text']\n",
    "            num_chars = len(list(text))\n",
    "            num_q_marks = text.count('?')\n",
    "            if num_chars > 0:\n",
    "                cand_text_dict[year][cand]['q_density'] = num_q_marks/num_chars\n",
    "\n",
    "    cand_text_dict_no_mod = copy.deepcopy(cand_text_dict)\n",
    "    #remove liekly moderators\n",
    "    for year in cand_text_dict.keys():\n",
    "        for cand in cand_text_dict[year].keys():\n",
    "            if ((cand == 'MALE' and 'MALE' in cand_text_dict_no_mod[year]) or \n",
    "                (cand == 'UNKNOWN' and 'UNKNOWN' in cand_text_dict_no_mod[year]) or \n",
    "                (cand == 'WRITE' and 'WRITE' in cand_text_dict_no_mod[year])):\n",
    "                del cand_text_dict_no_mod[year][cand]\n",
    "    \n",
    "            if (cand_text_dict[year][cand]['q_density'] > Q_DENSITY_CUTOFF):\n",
    "                if (cand in cand_text_dict_no_mod[year]):\n",
    "                    del cand_text_dict_no_mod[year][cand]\n",
    "\n",
    "        \n",
    "    return cand_text_dict_no_mod"
   ]
  },
  {
   "cell_type": "code",
   "execution_count": 10,
   "metadata": {
    "collapsed": true
   },
   "outputs": [],
   "source": [
    " def clean_dirty_name_lookup(names):\n",
    "    \n",
    "    lookup_dict = {}\n",
    "    \n",
    "    for name in names:\n",
    "        clean_name = name.split()[-1].upper().replace('.','').replace(')','').replace(';','').replace(':','')\n",
    "        lookup_dict[name] = clean_name\n",
    "    \n",
    "    return lookup_dict"
   ]
  },
  {
   "cell_type": "code",
   "execution_count": 11,
   "metadata": {
    "collapsed": true
   },
   "outputs": [],
   "source": [
    "def get_election_year(year, dbt):\n",
    "    year = dbt['time'].tm_year\n",
    "    year_mod = year % 4\n",
    "    if year_mod == 0:\n",
    "        election_year = year\n",
    "    else:\n",
    "        election_year = year + (4 - year_mod)\n",
    "    return election_year"
   ]
  },
  {
   "cell_type": "code",
   "execution_count": 12,
   "metadata": {
    "collapsed": true
   },
   "outputs": [],
   "source": [
    "def clean_names(debate_dict):\n",
    "    # Add debate year\n",
    "    name_years = {}\n",
    "    for dbt in debate_dict.keys():\n",
    "        time = debate_dict[dbt]['time']\n",
    "\n",
    "        # Get election year\n",
    "        if time:\n",
    "            election_year = get_election_year(time.tm_year, debate_dict[dbt])\n",
    "        else:\n",
    "            election_year = 'dbt'\n",
    "        debate_dict[dbt]['election_year'] = election_year\n",
    "\n",
    "        # Add new set of names from debate to name_years dict\n",
    "        if election_year not in name_years:\n",
    "            name_years[election_year] = {'names':set()}\n",
    "\n",
    "        names = set(debate_dict[dbt][\"names\"])\n",
    "        name_years[election_year]['names'] = name_years[election_year]['names'].union(names)\n",
    "\n",
    "    # Reduce all names in one year to a single name\n",
    "    for year in name_years:\n",
    "        name_years[year]['lookup'] = clean_dirty_name_lookup(name_years[year]['names'])\n",
    "\n",
    "    # Add lookup dictionary to debate dictionary\n",
    "    for dbt in debate_dict.keys():\n",
    "        election_year = debate_dict[dbt]['election_year']\n",
    "        debate_dict[dbt]['lookup'] = name_years[election_year]['lookup']\n",
    "        debate_dict[dbt]['clean_names'] = debate_dict[dbt]['lookup'].values()\n",
    "    \n",
    "    return debate_dict"
   ]
  },
  {
   "cell_type": "code",
   "execution_count": 13,
   "metadata": {
    "collapsed": false
   },
   "outputs": [],
   "source": [
    "def attribute_text(debate_dict):\n",
    "    #make year/candidate dictionary for text\n",
    "    cand_text_dict = {}\n",
    "    for dbt in debate_dict.keys():\n",
    "        year = debate_dict[dbt]['election_year']\n",
    "        cand_text_dict[year] = {}\n",
    "        for cand in debate_dict[dbt][\"clean_names\"]:\n",
    "            cand_text_dict[year][cand] = {}\n",
    "            cand_text_dict[year][cand]['full_text'] = \"\"\n",
    "    \n",
    "    #fill year/candidate dictionary\n",
    "    for dbt in debate_dict.keys():\n",
    "        #set variables\n",
    "        year = debate_dict[dbt][\"election_year\"]\n",
    "        names = debate_dict[dbt][\"names\"]\n",
    "        if \"write\" in names:\n",
    "            names.remove('write')\n",
    "        \n",
    "        #get debate soup\n",
    "        raw = get_soup_text(debate_dict[dbt])\n",
    "        \n",
    "        #tokenize sents\n",
    "        for name in names:\n",
    "            raw = raw.replace(name, \". \" + name)\n",
    "        sent_detector = nltk.data.load('tokenizers/punkt/english.pickle')\n",
    "        sents = sent_detector.tokenize(raw.strip())\n",
    "        \n",
    "        #loop through sents\n",
    "        current_speaker = \"\"\n",
    "        got_first_speaker = False\n",
    "        for sent in sents:\n",
    "            new_speaker = (len([name for name in names if name in sent])>0)\n",
    "            if(new_speaker):\n",
    "                got_first_speaker = True\n",
    "                current_speaker_dirty = [name for name in names if name in sent][0]\n",
    "                current_speaker = debate_dict[dbt][\"lookup\"][current_speaker_dirty]\n",
    "            \n",
    "            if(got_first_speaker):\n",
    "                sent_no_name = sent.replace(current_speaker_dirty, \"\")\n",
    "                cand_text_dict[year][current_speaker]['full_text'] = (cand_text_dict[year][current_speaker]['full_text'] + \" \" + sent_no_name)\n",
    "    \n",
    "    #fix \"president\" as candidate name\n",
    "    for year in cand_text_dict.keys():\n",
    "        #loop through candidates\n",
    "        if year == 2012:\n",
    "            cand_text_dict[year]['OBAMA'] = cand_text_dict[year].pop('PRESIDENT')\n",
    "        if year == 1996:\n",
    "            cand_text_dict[year]['CLINTON'] = cand_text_dict[year].pop('PRESIDENT')\n",
    "        if year == 1984:\n",
    "            cand_text_dict[year]['REAGAN'] = cand_text_dict[year].pop('PRESIDENT')\n",
    "        if year == 1980:\n",
    "            cand_text_dict[year]['CARTER'] = cand_text_dict[year].pop('PRESIDENT')\n",
    "        if year == 1976:\n",
    "            cand_text_dict[year]['FORD'] = cand_text_dict[year].pop('PRESIDENT')\n",
    "    return cand_text_dict"
   ]
  },
  {
   "cell_type": "code",
   "execution_count": 24,
   "metadata": {
    "collapsed": false
   },
   "outputs": [],
   "source": [
    "def similarity_model(cand_text_dict):\n",
    "    dumbWords = stopwords.words('english')\n",
    "    political_positions = ['Governor', 'Senator', 'President']\n",
    "    \n",
    "    \n",
    "    #loop through election years\n",
    "    for year in cand_text_dict.keys():\n",
    "        #loop through candidates\n",
    "        for cand in cand_text_dict[year].keys():\n",
    "            #print(year, cand)\n",
    "        \n",
    "            tokens = nltk.word_tokenize(cand_text_dict[year][cand]['full_text'])\n",
    "            text = nltk.Text(tokens)\n",
    "            \n",
    "            if len(text)>0:\n",
    "                #avg word len\n",
    "                sum_len = sum([len(word) for word in text])\n",
    "                cand_text_dict[year][cand][\"avg_word_len\"] = sum_len/len(text)\n",
    "                \n",
    "                #avg word len, no stopwords\n",
    "                text_no_dumbWords = [word for word in text if word not in dumbWords]\n",
    "                sum_len = sum([len(word) for word in text_no_dumbWords])\n",
    "                cand_text_dict[year][cand][\"avg_word_len_no_stopword\"] = sum_len/len(text_no_dumbWords)\n",
    "                \n",
    "                #lex diversity                \n",
    "                cand_text_dict[year][cand][\"lex_diversity\"] = (len(set(text)) / len(text))\n",
    "\n",
    "                \n",
    "                #lex diversity  no stopwords              \n",
    "                cand_text_dict[year][cand][\"lex_diversity_no_stopword\"] = (len(set(text_no_dumbWords)) / len(text_no_dumbWords))\n",
    "            \n",
    " \n",
    "            bgrms = list(bigrams(text))\n",
    "            cand_text_dict[year][cand][\"bgrms\"] = bgrms\n",
    "            \n",
    "            fdist_bgrms = FreqDist(bgrms)\n",
    "            special_bgrms_no_caps_stopwords = [bgm for bgm in bgrms if fdist_bgrms[bgm]>2 \n",
    "                             and wordnet.synsets(bgm[0]) and wordnet.synsets(bgm[1]) \n",
    "                                     and bgm[0][0].islower() and bgm[1][0].islower()\n",
    "                                              and bgm[0] not in dumbWords and bgm[1] not in dumbWords]\n",
    "            cand_text_dict[year][cand][\"special_bgrms_no_caps_stopwords\"] = special_bgrms_no_caps_stopwords\n",
    "            \n",
    "\n",
    "            cand_text_dict[year][cand][\"compound_bgms\"] = ''\n",
    "            for bgm in cand_text_dict[year][cand][\"bgrms\"]:\n",
    "                compound_bgm = bgm[0] + '_' + bgm[1]\n",
    "                cand_text_dict[year][cand][\"compound_bgms\"] += (compound_bgm + ' ')\n",
    "\n",
    "                    \n",
    "            \n",
    "    return cand_text_dict\n",
    "        "
   ]
  },
  {
   "cell_type": "code",
   "execution_count": 59,
   "metadata": {
    "collapsed": false
   },
   "outputs": [],
   "source": [
    "def build_text_dict():\n",
    "    debate_dict = get_debate_dict()\n",
    "\n",
    "    #find the names of the participants\n",
    "    debate_dict = find_politician_names(debate_dict)\n",
    "    \n",
    "    #clean names and years for comparison within electoral years\n",
    "    debate_dict = clean_names(debate_dict)\n",
    "\n",
    "    #compile all text by candidate-year\n",
    "    cand_text_dict = attribute_text(debate_dict)\n",
    "\n",
    "    #create a model of text similarity\n",
    "    cand_text_dict = similarity_model(cand_text_dict)\n",
    "    \n",
    "    cand_text_dict = remove_non_politicians(cand_text_dict)\n",
    "\n",
    "    return cand_text_dict\n",
    "\n",
    "\n",
    "\n"
   ]
  },
  {
   "cell_type": "code",
   "execution_count": 92,
   "metadata": {
    "collapsed": false
   },
   "outputs": [],
   "source": [
    "def build_data_matrix(debate_dict,var_list,word_limit=1000,bigram_limit=1000):\n",
    "    \n",
    "    # locations of id and text in score dataframe\n",
    "    cand_scores = []\n",
    "    for year in debate_dict:\n",
    "        # Build each row of dataframe\n",
    "        for candidate in debate_dict[year]:\n",
    "            cand_year_dict = debate_dict[year][candidate]\n",
    "            cand_id = candidate + '_' + str(year)\n",
    "            var_score_list = [cand_year_dict[x] for x in cand_year_dict if x in var_list]\n",
    "            cand_scores.append([cand_id,cand_year_dict['full_text'],\n",
    "                               cand_year_dict['compound_bgms']] + var_score_list)\n",
    "            \n",
    "    # build normalized dataframe with name and text as first columns, var_list as col keys\n",
    "    cand_df = normalize_scores(cand_scores,var_list)   \n",
    "\n",
    "    # build tfidf Matrix and add to original matrix\n",
    "    tfidf_freq = get_tfidf_vectors(cand_df['full_text'],word_limit)\n",
    "    tf_cols = list(tfidf_freq.columns)\n",
    "    df = pd.concat([cand_df,tfidf_freq],axis=1)\n",
    "    \n",
    "    # build tfidf Matrix for bigrams\n",
    "    bi_tfidf_freq = get_tfidf_vectors(cand_df['compound_bgms'],bigram_limit)\n",
    "    bi_tf_cols = list(bi_tfidf_freq.columns)\n",
    "    df = pd.concat([df,bi_tfidf_freq],axis=1)\n",
    "    return df,tf_cols,bi_tf_cols\n",
    "\n",
    "def build_dist_dict(df,tf_cols,bi_tf_cols,weights,var_list,tf_dist,var_dist):  \n",
    "    num_rows = len(df)\n",
    "    dist_dict = {}\n",
    "    \n",
    "    \n",
    "    # Loop over all combinations and calculate distances and add to dictionary\n",
    "    # Speed benefits for building a dict and not just adding to dataframe\n",
    "    for i in range(num_rows-1):\n",
    "        if i % 10 == 0:\n",
    "            print(i)\n",
    "        for j in range(i+1,num_rows):\n",
    "            \n",
    "            # default to equal weights\n",
    "            if weights == None:\n",
    "                weights = [1]*(len(var_list) + 1)\n",
    "            \n",
    "            name1 = df.ix[i]['cand_name']\n",
    "            name2 = df.ix[j]['cand_name']\n",
    "            score = calculate_score(df.ix[i],df.ix[j],weights,var_list,tf_cols,\n",
    "                                    bi_tf_cols,tf_dist,var_dist)\n",
    "            \n",
    "\n",
    "            # fill both sides of dictionary with relative distances\n",
    "\n",
    "            if name1 not in dist_dict:\n",
    "                dist_dict[name1] = {}\n",
    "            if name2 not in dist_dict:\n",
    "                dist_dict[name2] = {}\n",
    "            dist_dict[name1][name2] = score\n",
    "            dist_dict[name2][name1] = score\n",
    "\n",
    "\n",
    "    return dist_dict        \n",
    "\n",
    "def calculate_score(row1,row2,weights,var_list,tfidf_cols,bi_tfidf_cols,distance_tf,distance_var):\n",
    "\n",
    "    # calculate weighted rows and find distance between with given method\n",
    "    tfidf_weight = weights['tfidf']\n",
    "    var_weights = weights['var']\n",
    "    bi_tfidf_weight = weights['tfidf_bigrams']\n",
    "    \n",
    "    \n",
    "    # equal weight to all tfidf features\n",
    "    tfidf_score = distance_tf(row1[tfidf_cols],row2[tfidf_cols])\n",
    "    tfidf_weighted = tfidf_score * tfidf_weight\n",
    "    \n",
    "    bi_tfidf_score = distance_tf(row1[bi_tfidf_cols],row2[bi_tfidf_cols])\n",
    "    bi_tfidf_weighted = bi_tfidf_score * bi_tfidf_weight \n",
    "    \n",
    "    var_scores = []\n",
    "    for i, var in enumerate(var_list):\n",
    "        d = distance_var(row1[var],row2[var])\n",
    "        var_scores.append(d * var_weights[i])\n",
    "\n",
    "    return tfidf_weighted + bi_tfidf_weighted + sum(var_scores) # return sum of weighted scores\n",
    "\n",
    "def weight_rows(row,col_list,weight_list):\n",
    "    rv = np.array(row[col_list[0]]) * weight_list[0]\n",
    "    for i in range(1,len(col_list)):\n",
    "        rv = np.hstack([rv,np.array(row[col_list[i]]*weight_list[i])])\n",
    "    \n",
    "    return rv\n",
    "\n",
    "def normalize_scores(list_of_scores,var_list):\n",
    "    \n",
    "    df = pd.DataFrame(list_of_scores)\n",
    "    \n",
    "    # Rename columns\n",
    "    col_dict = {0:'cand_name',1:'full_text',2:'compound_bgms'}\n",
    "    for i, var in enumerate(var_list):\n",
    "        col_dict[i+3] = var\n",
    "    df = df.rename(columns=col_dict)\n",
    "    df.fillna(0,inplace=True) # non-existent should be 0\n",
    "    \n",
    "    \n",
    "    df[var_list] = normalize(df[var_list],'l1',axis=0)\n",
    "    return df\n",
    "\n",
    "def get_tfidf_vectors(list_of_texts,word_limit):\n",
    "    # Used basis of code from hw 1\n",
    "    vectorizer = TfidfVectorizer(analyzer = \"word\",\n",
    "                                 tokenizer = None,\n",
    "                                 preprocessor = None,\n",
    "                                 stop_words = stopwords.words('english'),\n",
    "                                 lowercase= True,\n",
    "                                 max_features = word_limit,\n",
    "                                 smooth_idf = True) # Enable smoothing\n",
    "    compressed_vectors = vectorizer.fit_transform(list_of_texts)\n",
    "    df = pd.DataFrame(compressed_vectors.toarray())\n",
    "    df.columns = vectorizer.get_feature_names()\n",
    "    return df "
   ]
  },
  {
   "cell_type": "code",
   "execution_count": 249,
   "metadata": {
    "collapsed": false
   },
   "outputs": [],
   "source": [
    "# Post processing of distance and parties\n",
    "def build_distance_matrix(raw_scores,dist_dict):\n",
    "    names = list(raw_scores['cand_name'])\n",
    "    score_compare = pd.DataFrame(index=names,columns=names)\n",
    "    \n",
    "    # fill rows with mutuals scores for each candidate\n",
    "    for name in names:\n",
    "        new_col = []\n",
    "        for compare_name in names:\n",
    "            try:\n",
    "                new_col.append(dist_dict[name][compare_name])\n",
    "            except:\n",
    "                new_col.append(np.nan)\n",
    "        score_compare[name] = new_col\n",
    "    score_compare.fillna(np.nan,inplace=True)\n",
    "    \n",
    "    rv = score_compare.merge(raw_scores,left_index=True,right_on='cand_name')\n",
    "    rv['year_num'] = rv['cand_name'].apply(lambda x: x.split('_')[1])\n",
    "    \n",
    "    \n",
    "    return join_parties(rv)\n",
    "\n",
    "def add_clusters(df,num_clusters):\n",
    "    # cluster only on data on speeches\n",
    "    kmeans = KMeans(n_clusters=num_clusters)\n",
    "    kmeans.fit_predict(df.drop(ADDED_FIELDS+['year_num'],axis=1))\n",
    "    df['clusters'] = kmeans.labels_\n",
    "    return df\n",
    "\n",
    "def join_parties(df):\n",
    "    # Put party names in dataframe and drop any remaining moderators\n",
    "    \n",
    "    parties = pd.read_csv(PARTY_FILE,index_col='id')\n",
    "    \n",
    "    # get year number\n",
    "    df['year_num'] = df['cand_name'].apply(lambda x: x.split('_')[1])\n",
    "    df = df.set_index('cand_name')\n",
    "    joined_df = df.join(parties)\n",
    "    joined_df = joined_df[joined_df['party_name'] != 0]\n",
    "\n",
    "    return joined_df\n",
    "    \n",
    "    "
   ]
  },
  {
   "cell_type": "code",
   "execution_count": 201,
   "metadata": {
    "collapsed": true
   },
   "outputs": [],
   "source": [
    "def plot_clusters(df,title,x):\n",
    "    \n",
    "    year = [float(x) + np.random.random()*2 for x in df['year_num']]\n",
    "    party = [float(x) + np.random.random()*.2 for x in df['party_name']]\n",
    "\n",
    "    plt.scatter(year,party,c=df['clusters'],cmap='Spectral')\n",
    "    plt.title(str(x) + ' Clusters')\n",
    "    plt.xlabel('Year')\n",
    "    plt.ylabel('Party: 1=Dem, 2=Rep, 3=Other')\n",
    "    plt.savefig(title + '.png')\n",
    "    plt.show()\n"
   ]
  },
  {
   "cell_type": "code",
   "execution_count": 247,
   "metadata": {
    "collapsed": true
   },
   "outputs": [],
   "source": [
    "# Output functions\n",
    "def output_pairs(name,year,score_df):\n",
    "    name_id = name.upper() + '_' + str(year)\n",
    "    print(\"Top 10 Pairs\")\n",
    "    print(score_df[name_id].sort_values()[:10])\n",
    "    print()\n",
    "    print(\"Lowest 10 Pairs\")\n",
    "    print(score_df[name_id].sort_values()[-11:])\n",
    "    print()\n",
    "    \n",
    "def cand_info(name,year,cand_text_dict):\n",
    "    cand_dict = cand_text_dict[year][name]\n",
    "    print(\"Average Word Length\",cand_dict['avg_word_len'])\n",
    "    print(\"w/o stopwords\",cand_dict['avg_word_len_no_stopword'])\n",
    "    print()\n",
    "    print(\"Lexical Diversity\")\n",
    "    print(cand_dict['lex_diversity_no_stopword'],'\\n')\n",
    "    print(\"Top 10 bigrams\")\n",
    "    top_10 = FreqDist(cand_dict['special_bgrms_no_caps_stopwords']).most_common(10)\n",
    "    for item in top_10:\n",
    "        print(item[0][0] + ' ' + item[0][1] + ': ', str(item[1]))\n",
    "\n",
    "def pairs(distance_matrix,cand_text_dict):\n",
    "    name1 = input('Candidate Name 1').upper()\n",
    "    year1 = int(input('Candidate Year 1'))\n",
    "\n",
    "    name2 = input('Candidate Name 2').upper()\n",
    "    year2 = int(input('Candidate Year 2'))\n",
    "\n",
    "    id_1 = name1 + '_' + str(year1)\n",
    "    id_2 = name2 + '_' + str(year2)\n",
    "    distance = distance_matrix[id_1][id_2]\n",
    "    print()\n",
    "    print(\"Distance: \",distance_matrix[id_1][id_2],'\\n')\n",
    "    print(id_2,distance_matrix[id_1].rank()[id_2], \"out of \",len(distance_matrix[id_1]),\" for \",id_1)\n",
    "    print(id_1,distance_matrix[id_2].rank()[id_1], \"out of \",len(distance_matrix[id_1]),\" for \",id_2)\n",
    "\n",
    "    print()\n",
    "    print(id_1, '\\n')\n",
    "    print(cand_info(name1,year1,cand_text_dict))\n",
    "    print('\\n',id_2,'\\n')\n",
    "    print(cand_info(name2,year2,cand_text_dict))\n",
    "    \n",
    "\n",
    "def single_cand(distance_matrix,cand_text_dict):\n",
    "    name = input('Candidate Name ').upper()\n",
    "    year = int(input('Candidate Year '))\n",
    "    output_pairs(name,year,distance_matrix)\n",
    "    cand_info(name,year,cand_text_dict)"
   ]
  },
  {
   "cell_type": "code",
   "execution_count": 293,
   "metadata": {
    "collapsed": false
   },
   "outputs": [],
   "source": [
    "   \n",
    "def analyze_clusters(raw_scores_orig,name):\n",
    "    \n",
    "    for x in range(2,9):\n",
    "        filename = 'clusters/' + name + '_' + str(x)\n",
    "        raw_scores = raw_scores_orig.copy()\n",
    "        cluster_df = add_clusters(raw_scores,x)\n",
    "        cluster_joined = join_parties(cluster_df)\n",
    "        #Plot before renaming\n",
    "        plot_clusters(cluster_joined,filename,x)\n",
    "        \n",
    "        party_dict = {1:'DEM',2:'REP',3:'OTHER'}\n",
    "        cluster_joined['party_name'] = cluster_joined['party_name'].apply(lambda x: party_dict[x])\n",
    "        \n",
    "        dummies = pd.get_dummies(cluster_joined['year_num']) \n",
    "        year = pd.concat([dummies,cluster_joined['clusters'],cluster_joined['party_name']],axis=1)\n",
    "        sum_info = year.groupby(['clusters','party_name']).sum() \n",
    "        \n",
    "        print(\"clusters: \",str(x),'\\n')\n",
    "        print(sum_info)\n",
    "        \n",
    "        # save to file\n",
    "        \n",
    "        sum_info.to_csv(filename + '_cluster_desc.csv')\n",
    "        cluster_joined[['clusters','year_num','party_name']].to_csv(\n",
    "                filename + '_actuals.csv')\n"
   ]
  },
  {
   "cell_type": "code",
   "execution_count": 50,
   "metadata": {
    "collapsed": true
   },
   "outputs": [],
   "source": [
    "# distance methods\n",
    "def square_dif(a,b):\n",
    "    return (a-b)**2\n",
    "\n",
    "def dif(a,b):\n",
    "    return abs(a-b)\n",
    "\n",
    "def log_dif(a,b):\n",
    "    return math.log(a-b)\n",
    "    "
   ]
  },
  {
   "cell_type": "code",
   "execution_count": 291,
   "metadata": {
    "collapsed": false
   },
   "outputs": [
    {
     "name": "stdout",
     "output_type": "stream",
     "text": [
      "0\n",
      "10\n",
      "20\n",
      "30\n",
      "40\n",
      "50\n",
      "60\n",
      "70\n",
      "80\n",
      "90\n",
      "100\n"
     ]
    }
   ],
   "source": [
    "#cand_text_dict = build_text_dict()\n",
    "tf_dist = cosine\n",
    "var_dist = square_dif\n",
    "var_names = ['avg_word_len','avg_word_len_no_stopword', 'lex_diversity_no_stopword']\n",
    "weights = {'var':[1,1,1],'tfidf':4,'tfidf_bigrams':4}\n",
    "df,tf_cols,bi_tf_cols = build_data_matrix(\n",
    "                        cand_text_dict,var_names,word_limit=1000,bigram_limit=1000)\n",
    "dist_dict = build_dist_dict(df,tf_cols,bi_tf_cols,weights,var_names,tf_dist,var_dist)\n",
    "distance_matrix = build_distance_matrix(df,dist_dict)\n",
    "#raw_weighted = cluster_weights(df,weights,tf_cols,bi_tf_cols,var_names)\n",
    "\n"
   ]
  },
  {
   "cell_type": "code",
   "execution_count": 348,
   "metadata": {
    "collapsed": false
   },
   "outputs": [],
   "source": [
    "def cluster_weights(raw_data,weights,tf_cols,bi_tf_cols,var_cols):\n",
    "    \n",
    "    return_df = raw_data.copy()\n",
    "    return_df = return_df.T.groupby(level=0).first().T\n",
    "    tfidf_weight = weights['tfidf']\n",
    "    var_weights = weights['var']\n",
    "    bi_tfidf_weight = weights['tfidf_bigrams']\n",
    "    tf_weight = tfidf_weight / float(len(tf_cols))\n",
    "    bi_tf_weight = bi_tfidf_weight / float(len(bi_tf_cols))\n",
    "    \n",
    "    \n",
    "    return_df[tf_cols] = return_df[tf_cols]*tf_weight\n",
    "    return_df[bi_tf_cols] = return_df[bi_tf_cols]*bi_tf_weight\n",
    "    for i,col in enumerate(var_cols):\n",
    "        return_df[col] = return_df[col]*var_weights[i]\n",
    "        \n",
    "    return return_df    "
   ]
  },
  {
   "cell_type": "code",
   "execution_count": 349,
   "metadata": {
    "collapsed": false
   },
   "outputs": [],
   "source": [
    "raw_weighted = cluster_weights(df,weights,tf_cols,bi_tf_cols,var_names)"
   ]
  },
  {
   "cell_type": "code",
   "execution_count": 336,
   "metadata": {
    "collapsed": false
   },
   "outputs": [],
   "source": [
    "df_copy=df_copy.T.groupby(level=0).first().T"
   ]
  },
  {
   "cell_type": "code",
   "execution_count": null,
   "metadata": {
    "collapsed": true
   },
   "outputs": [],
   "source": []
  },
  {
   "cell_type": "code",
   "execution_count": 337,
   "metadata": {
    "collapsed": false
   },
   "outputs": [
    {
     "data": {
      "text/plain": [
       "(108, 1000)"
      ]
     },
     "execution_count": 337,
     "metadata": {},
     "output_type": "execute_result"
    }
   ],
   "source": [
    "df_copy[tf_cols].shape"
   ]
  },
  {
   "cell_type": "code",
   "execution_count": 263,
   "metadata": {
    "collapsed": false
   },
   "outputs": [],
   "source": [
    "weights[[1,2]]= weights[[1,2]]*[0,100]"
   ]
  },
  {
   "cell_type": "code",
   "execution_count": 216,
   "metadata": {
    "collapsed": false
   },
   "outputs": [
    {
     "data": {
      "image/png": "[encoded data removed]",
      "text/plain": [
       "<matplotlib.figure.Figure at 0x1519a7f28>"
      ]
     },
     "metadata": {},
     "output_type": "display_data"
    },
    {
     "name": "stdout",
     "output_type": "stream",
     "text": [
      "clusters:  2 \n",
      "\n",
      "                     1960  1976  1980  1984  1988  1992  1996  2000  2004  \\\n",
      "clusters party_name                                                         \n",
      "0        DEM            0     0     0     0     0     1     0     0     3   \n",
      "         REP            0     0     0     0     0     1     0     0     0   \n",
      "1        DEM            1     2     1     0     2     1     2     3     4   \n",
      "         OTHER          0     0     1     0     0     2     0     0     0   \n",
      "         REP            1     2     1     4     2     1     2     7     2   \n",
      "\n",
      "                     2008  2012  2016  \n",
      "clusters party_name                    \n",
      "0        DEM            3     1     1  \n",
      "         REP            3     8    17  \n",
      "1        DEM            4     2     3  \n",
      "         OTHER          0     0     0  \n",
      "         REP            9     1     1  \n",
      "MultiIndex(levels=[[0, 1], ['DEM', 'OTHER', 'REP']],\n",
      "           labels=[[0, 0, 1, 1, 1], [0, 2, 0, 1, 2]],\n",
      "           names=['clusters', 'party_name'])\n"
     ]
    },
    {
     "data": {
      "image/png": "[encoded data removed]",
      "text/plain": [
       "<matplotlib.figure.Figure at 0x15bc3cb70>"
      ]
     },
     "metadata": {},
     "output_type": "display_data"
    },
    {
     "name": "stdout",
     "output_type": "stream",
     "text": [
      "clusters:  3 \n",
      "\n",
      "                     1960  1976  1980  1984  1988  1992  1996  2000  2004  \\\n",
      "clusters party_name                                                         \n",
      "0        DEM            0     0     0     0     0     1     0     0     3   \n",
      "         REP            0     0     0     0     0     1     0     0     0   \n",
      "1        DEM            0     0     0     0     2     1     1     3     4   \n",
      "         OTHER          0     0     0     0     0     2     0     0     0   \n",
      "         REP            0     0     0     3     2     1     1     7     2   \n",
      "2        DEM            1     2     1     0     0     0     1     0     0   \n",
      "         OTHER          0     0     1     0     0     0     0     0     0   \n",
      "         REP            1     2     1     1     0     0     1     0     0   \n",
      "\n",
      "                     2008  2012  2016  \n",
      "clusters party_name                    \n",
      "0        DEM            3     1     1  \n",
      "         REP            3     8    17  \n",
      "1        DEM            4     2     3  \n",
      "         OTHER          0     0     0  \n",
      "         REP            9     1     1  \n",
      "2        DEM            0     0     0  \n",
      "         OTHER          0     0     0  \n",
      "         REP            0     0     0  \n",
      "MultiIndex(levels=[[0, 1, 2], ['DEM', 'OTHER', 'REP']],\n",
      "           labels=[[0, 0, 1, 1, 1, 2, 2, 2], [0, 2, 0, 1, 2, 0, 1, 2]],\n",
      "           names=['clusters', 'party_name'])\n"
     ]
    },
    {
     "data": {
      "image/png": "[encoded data removed]",
      "text/plain": [
       "<matplotlib.figure.Figure at 0x133ee7240>"
      ]
     },
     "metadata": {},
     "output_type": "display_data"
    },
    {
     "name": "stdout",
     "output_type": "stream",
     "text": [
      "clusters:  4 \n",
      "\n",
      "                     1960  1976  1980  1984  1988  1992  1996  2000  2004  \\\n",
      "clusters party_name                                                         \n",
      "0        DEM            0     0     0     0     2     1     1     3     4   \n",
      "         OTHER          0     0     0     0     0     2     0     0     0   \n",
      "         REP            0     0     0     3     2     1     1     7     2   \n",
      "1        DEM            0     0     0     0     0     1     0     0     1   \n",
      "         REP            0     0     0     0     0     1     0     0     0   \n",
      "2        DEM            1     2     1     0     0     0     1     0     0   \n",
      "         OTHER          0     0     1     0     0     0     0     0     0   \n",
      "         REP            1     2     1     1     0     0     1     0     0   \n",
      "3        DEM            0     0     0     0     0     0     0     0     2   \n",
      "         REP            0     0     0     0     0     0     0     0     0   \n",
      "\n",
      "                     2008  2012  2016  \n",
      "clusters party_name                    \n",
      "0        DEM            4     2     3  \n",
      "         OTHER          0     0     0  \n",
      "         REP            9     1     1  \n",
      "1        DEM            1     1     1  \n",
      "         REP            0     7    17  \n",
      "2        DEM            0     0     0  \n",
      "         OTHER          0     0     0  \n",
      "         REP            0     0     0  \n",
      "3        DEM            2     0     0  \n",
      "         REP            3     1     0  \n",
      "MultiIndex(levels=[[0, 1, 2, 3], ['DEM', 'OTHER', 'REP']],\n",
      "           labels=[[0, 0, 0, 1, 1, 2, 2, 2, 3, 3], [0, 1, 2, 0, 2, 0, 1, 2, 0, 2]],\n",
      "           names=['clusters', 'party_name'])\n"
     ]
    },
    {
     "data": {
      "image/png": "[encoded data removed]",
      "text/plain": [
       "<matplotlib.figure.Figure at 0x152d33160>"
      ]
     },
     "metadata": {},
     "output_type": "display_data"
    },
    {
     "name": "stdout",
     "output_type": "stream",
     "text": [
      "clusters:  5 \n",
      "\n",
      "                     1960  1976  1980  1984  1988  1992  1996  2000  2004  \\\n",
      "clusters party_name                                                         \n",
      "0        REP            0     0     0     0     0     0     0     0     0   \n",
      "1        DEM            0     0     0     0     2     1     1     3     4   \n",
      "         OTHER          0     0     0     0     0     2     0     0     0   \n",
      "         REP            0     0     0     3     2     1     1     7     2   \n",
      "2        DEM            0     0     0     0     0     0     0     0     2   \n",
      "         REP            0     0     0     0     0     0     0     0     0   \n",
      "3        DEM            1     2     1     0     0     0     1     0     0   \n",
      "         OTHER          0     0     1     0     0     0     0     0     0   \n",
      "         REP            1     2     1     1     0     0     1     0     0   \n",
      "4        DEM            0     0     0     0     0     1     0     0     1   \n",
      "         REP            0     0     0     0     0     1     0     0     0   \n",
      "\n",
      "                     2008  2012  2016  \n",
      "clusters party_name                    \n",
      "0        REP            0     1     0  \n",
      "1        DEM            4     2     3  \n",
      "         OTHER          0     0     0  \n",
      "         REP            9     0     1  \n",
      "2        DEM            2     0     0  \n",
      "         REP            3     1     0  \n",
      "3        DEM            0     0     0  \n",
      "         OTHER          0     0     0  \n",
      "         REP            0     0     0  \n",
      "4        DEM            1     1     1  \n",
      "         REP            0     7    17  \n",
      "MultiIndex(levels=[[0, 1, 2, 3, 4], ['DEM', 'OTHER', 'REP']],\n",
      "           labels=[[0, 1, 1, 1, 2, 2, 3, 3, 3, 4, 4], [2, 0, 1, 2, 0, 2, 0, 1, 2, 0, 2]],\n",
      "           names=['clusters', 'party_name'])\n"
     ]
    },
    {
     "data": {
      "image/png": "[encoded data removed]",
      "text/plain": [
       "<matplotlib.figure.Figure at 0x14f6ddf98>"
      ]
     },
     "metadata": {},
     "output_type": "display_data"
    },
    {
     "name": "stdout",
     "output_type": "stream",
     "text": [
      "clusters:  6 \n",
      "\n",
      "                     1960  1976  1980  1984  1988  1992  1996  2000  2004  \\\n",
      "clusters party_name                                                         \n",
      "0        REP            0     0     0     0     0     0     0     0     0   \n",
      "1        DEM            0     0     0     0     0     0     0     0     2   \n",
      "         REP            0     0     0     0     0     0     0     0     0   \n",
      "2        DEM            0     0     0     0     0     1     0     0     1   \n",
      "         REP            0     0     0     0     0     1     0     0     0   \n",
      "3        DEM            1     2     1     0     0     0     1     0     0   \n",
      "         OTHER          0     0     1     0     0     0     0     0     0   \n",
      "         REP            1     2     1     1     0     0     1     0     0   \n",
      "5        DEM            0     0     0     0     2     1     1     3     4   \n",
      "         OTHER          0     0     0     0     0     2     0     0     0   \n",
      "         REP            0     0     0     3     2     1     1     7     2   \n",
      "\n",
      "                     2008  2012  2016  \n",
      "clusters party_name                    \n",
      "0        REP            0     1     0  \n",
      "1        DEM            2     0     0  \n",
      "         REP            3     1     0  \n",
      "2        DEM            1     1     1  \n",
      "         REP            0     7    17  \n",
      "3        DEM            0     0     0  \n",
      "         OTHER          0     0     0  \n",
      "         REP            0     0     0  \n",
      "5        DEM            4     2     3  \n",
      "         OTHER          0     0     0  \n",
      "         REP            9     0     1  \n",
      "MultiIndex(levels=[[0, 1, 2, 3, 5], ['DEM', 'OTHER', 'REP']],\n",
      "           labels=[[0, 1, 1, 2, 2, 3, 3, 3, 4, 4, 4], [2, 0, 2, 0, 2, 0, 1, 2, 0, 1, 2]],\n",
      "           names=['clusters', 'party_name'])\n"
     ]
    },
    {
     "data": {
      "image/png": "[encoded data removed]",
      "text/plain": [
       "<matplotlib.figure.Figure at 0x15558da58>"
      ]
     },
     "metadata": {},
     "output_type": "display_data"
    },
    {
     "name": "stdout",
     "output_type": "stream",
     "text": [
      "clusters:  7 \n",
      "\n",
      "                     1960  1976  1980  1984  1988  1992  1996  2000  2004  \\\n",
      "clusters party_name                                                         \n",
      "1        DEM            0     0     0     0     2     1     1     3     4   \n",
      "         OTHER          0     0     0     0     0     2     0     0     0   \n",
      "         REP            0     0     0     3     2     1     1     7     2   \n",
      "2        DEM            0     0     0     0     0     1     0     0     1   \n",
      "         REP            0     0     0     0     0     1     0     0     0   \n",
      "3        DEM            1     2     1     0     0     0     1     0     0   \n",
      "         OTHER          0     0     1     0     0     0     0     0     0   \n",
      "         REP            1     2     1     1     0     0     1     0     0   \n",
      "5        REP            0     0     0     0     0     0     0     0     0   \n",
      "6        DEM            0     0     0     0     0     0     0     0     2   \n",
      "         REP            0     0     0     0     0     0     0     0     0   \n",
      "\n",
      "                     2008  2012  2016  \n",
      "clusters party_name                    \n",
      "1        DEM            4     2     3  \n",
      "         OTHER          0     0     0  \n",
      "         REP            9     0     1  \n",
      "2        DEM            1     1     1  \n",
      "         REP            0     7    17  \n",
      "3        DEM            0     0     0  \n",
      "         OTHER          0     0     0  \n",
      "         REP            0     0     0  \n",
      "5        REP            0     1     0  \n",
      "6        DEM            2     0     0  \n",
      "         REP            3     1     0  \n",
      "MultiIndex(levels=[[1, 2, 3, 5, 6], ['DEM', 'OTHER', 'REP']],\n",
      "           labels=[[0, 0, 0, 1, 1, 2, 2, 2, 3, 4, 4], [0, 1, 2, 0, 2, 0, 1, 2, 2, 0, 2]],\n",
      "           names=['clusters', 'party_name'])\n"
     ]
    },
    {
     "data": {
      "image/png": "[encoded data removed]",
      "text/plain": [
       "<matplotlib.figure.Figure at 0x15ebb7780>"
      ]
     },
     "metadata": {},
     "output_type": "display_data"
    },
    {
     "name": "stdout",
     "output_type": "stream",
     "text": [
      "clusters:  8 \n",
      "\n",
      "                     1960  1976  1980  1984  1988  1992  1996  2000  2004  \\\n",
      "clusters party_name                                                         \n",
      "0        DEM            0     0     0     0     0     1     0     0     1   \n",
      "         REP            0     0     0     0     0     1     0     0     0   \n",
      "1        DEM            0     0     0     0     2     1     1     3     4   \n",
      "         OTHER          0     0     0     0     0     2     0     0     0   \n",
      "         REP            0     0     0     3     2     1     1     7     2   \n",
      "2        DEM            1     2     1     0     0     0     1     0     0   \n",
      "         OTHER          0     0     1     0     0     0     0     0     0   \n",
      "         REP            1     2     1     1     0     0     1     0     0   \n",
      "3        DEM            0     0     0     0     0     0     0     0     2   \n",
      "         REP            0     0     0     0     0     0     0     0     0   \n",
      "6        REP            0     0     0     0     0     0     0     0     0   \n",
      "7        DEM            0     0     0     0     0     0     0     0     0   \n",
      "         REP            0     0     0     0     0     0     0     0     0   \n",
      "\n",
      "                     2008  2012  2016  \n",
      "clusters party_name                    \n",
      "0        DEM            0     0     1  \n",
      "         REP            0     1    13  \n",
      "1        DEM            4     2     3  \n",
      "         OTHER          0     0     0  \n",
      "         REP            9     0     1  \n",
      "2        DEM            0     0     0  \n",
      "         OTHER          0     0     0  \n",
      "         REP            0     0     0  \n",
      "3        DEM            2     0     0  \n",
      "         REP            3     1     0  \n",
      "6        REP            0     1     0  \n",
      "7        DEM            1     1     0  \n",
      "         REP            0     6     4  \n",
      "MultiIndex(levels=[[0, 1, 2, 3, 6, 7], ['DEM', 'OTHER', 'REP']],\n",
      "           labels=[[0, 0, 1, 1, 1, 2, 2, 2, 3, 3, 4, 5, 5], [0, 2, 0, 1, 2, 0, 1, 2, 0, 2, 2, 0, 2]],\n",
      "           names=['clusters', 'party_name'])\n"
     ]
    }
   ],
   "source": [
    "analyze_clusters(df,'test')"
   ]
  },
  {
   "cell_type": "code",
   "execution_count": 248,
   "metadata": {
    "collapsed": true
   },
   "outputs": [
    {
     "name": "stdout",
     "output_type": "stream",
     "text": [
      "Candidate Name clinton\n",
      "Candidate Year 2016\n",
      "Top 10 Pairs\n",
      "cand_name\n",
      "CLINTON_2008     0.573610\n",
      "OBAMA_2008       1.046290\n",
      "GORE_2000        1.066425\n",
      "MCCAIN_2008      1.132481\n",
      "ROMNEY_2012      1.166313\n",
      "SANDERS_2016     1.170824\n",
      "GINGRICH_2012    1.179304\n",
      "BRADLEY_2000     1.185687\n",
      "HUCKABEE_2016    1.186086\n",
      "HUCKABEE_2008    1.190665\n",
      "Name: CLINTON_2016, dtype: float64\n",
      "\n",
      "Lowest 10 Pairs\n",
      "cand_name\n",
      "CARTER_1976     2.867974\n",
      "DOLE_1976       2.950530\n",
      "FORD_1976       3.067725\n",
      "MONDALE_1976    3.135370\n",
      "PERRY_2016      3.181457\n",
      "KENNEDY_1960    3.228202\n",
      "CARTER_1980     3.304524\n",
      "GORE_1996       3.423168\n",
      "KEMP_1996       3.611223\n",
      "GOV_2012        6.452275\n",
      "CLINTON_2016         NaN\n",
      "Name: CLINTON_2016, dtype: float64\n",
      "\n",
      "Average Word Length 3.8344431356522994\n",
      "w/o stopwords 4.432336584186347\n",
      "\n",
      "Lexical Diversity\n",
      "0.14064640928508101 \n",
      "\n",
      "Top 10 bigrams\n",
      "health care:  34\n",
      "make sure:  24\n",
      "young people:  17\n",
      "middle class:  14\n",
      "law enforcement:  11\n",
      "health insurance:  10\n",
      "criminal justice:  10\n",
      "put together:  10\n",
      "insurance companies:  9\n",
      "immigration reform:  9\n"
     ]
    }
   ],
   "source": [
    "single_cand(distance_matrix,cand_text_dict)"
   ]
  },
  {
   "cell_type": "code",
   "execution_count": 251,
   "metadata": {
    "collapsed": true
   },
   "outputs": [
    {
     "name": "stdout",
     "output_type": "stream",
     "text": [
      "Candidate Name 1clinton\n",
      "Candidate Year 12016\n",
      "Candidate Name 2clinton\n",
      "Candidate Year 21992\n",
      "\n",
      "Distance:  1.75120992315 \n",
      "\n",
      "CLINTON_1992 45.0 out of  99  for  CLINTON_2016\n",
      "CLINTON_2016 24.0 out of  99  for  CLINTON_1992\n",
      "\n",
      "CLINTON_2016 \n",
      "\n",
      "Average Word Length 3.8344431356522994\n",
      "w/o stopwords 4.432336584186347\n",
      "\n",
      "Lexical Diversity\n",
      "0.14064640928508101 \n",
      "\n",
      "Top 10 bigrams\n",
      "health care:  34\n",
      "make sure:  24\n",
      "young people:  17\n",
      "middle class:  14\n",
      "law enforcement:  11\n",
      "health insurance:  10\n",
      "criminal justice:  10\n",
      "put together:  10\n",
      "insurance companies:  9\n",
      "immigration reform:  9\n",
      "None\n",
      "\n",
      " CLINTON_1992 \n",
      "\n",
      "Average Word Length 3.8773194723898947\n",
      "w/o stopwords 4.482949392345366\n",
      "\n",
      "Lexical Diversity\n",
      "0.20886994376927262 \n",
      "\n",
      "Top 10 bigrams\n",
      "health care:  37\n",
      "middle class:  20\n",
      "care costs:  16\n",
      "private sector:  9\n",
      "control health:  8\n",
      "family values:  8\n",
      "class tax:  7\n",
      "tax relief:  7\n",
      "raise taxes:  7\n",
      "years ago:  7\n",
      "None\n"
     ]
    }
   ],
   "source": [
    "pairs(distance_matrix,cand_text_dict)"
   ]
  }
 ],
 "metadata": {
  "kernelspec": {
   "display_name": "Python 3",
   "language": "python",
   "name": "python3"
  },
  "language_info": {
   "codemirror_mode": {
    "name": "ipython",
    "version": 3
   },
   "file_extension": ".py",
   "mimetype": "text/x-python",
   "name": "python",
   "nbconvert_exporter": "python",
   "pygments_lexer": "ipython3",
   "version": "3.5.1"
  }
 },
 "nbformat": 4,
 "nbformat_minor": 0
}
